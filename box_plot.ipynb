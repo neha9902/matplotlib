{
 "cells": [
  {
   "cell_type": "code",
   "execution_count": 1,
   "id": "d65da4bb",
   "metadata": {},
   "outputs": [],
   "source": [
    "import pandas as pd\n",
    "import matplotlib.pyplot as plt\n",
    "%matplotlib inline"
   ]
  },
  {
   "cell_type": "code",
   "execution_count": 8,
   "id": "31fe1067",
   "metadata": {},
   "outputs": [],
   "source": [
    "orders = pd.read_csv('SampleSuperstore.csv')"
   ]
  },
  {
   "cell_type": "code",
   "execution_count": 9,
   "id": "a6286e7c",
   "metadata": {},
   "outputs": [
    {
     "data": {
      "text/plain": [
       "Index(['Ship Mode', 'Segment', 'Country', 'City', 'State', 'Postal Code',\n",
       "       'Region', 'Category', 'Sub-Category', 'Sales', 'Quantity', 'Discount',\n",
       "       'Profit'],\n",
       "      dtype='object')"
      ]
     },
     "execution_count": 9,
     "metadata": {},
     "output_type": "execute_result"
    }
   ],
   "source": [
    "orders.columns\n"
   ]
  },
  {
   "cell_type": "code",
   "execution_count": 10,
   "id": "346f544e",
   "metadata": {},
   "outputs": [
    {
     "data": {
      "text/plain": [
       "dtype('O')"
      ]
     },
     "execution_count": 10,
     "metadata": {},
     "output_type": "execute_result"
    }
   ],
   "source": [
    "orders['Segment'].dtype"
   ]
  },
  {
   "cell_type": "code",
   "execution_count": 11,
   "id": "567a3bbf",
   "metadata": {},
   "outputs": [
    {
     "name": "stdout",
     "output_type": "stream",
     "text": [
      "<class 'pandas.core.frame.DataFrame'>\n",
      "RangeIndex: 9994 entries, 0 to 9993\n",
      "Data columns (total 13 columns):\n",
      " #   Column        Non-Null Count  Dtype  \n",
      "---  ------        --------------  -----  \n",
      " 0   Ship Mode     9994 non-null   object \n",
      " 1   Segment       9994 non-null   object \n",
      " 2   Country       9994 non-null   object \n",
      " 3   City          9994 non-null   object \n",
      " 4   State         9994 non-null   object \n",
      " 5   Postal Code   9994 non-null   int64  \n",
      " 6   Region        9994 non-null   object \n",
      " 7   Category      9994 non-null   object \n",
      " 8   Sub-Category  9994 non-null   object \n",
      " 9   Sales         9994 non-null   float64\n",
      " 10  Quantity      9994 non-null   int64  \n",
      " 11  Discount      9994 non-null   float64\n",
      " 12  Profit        9994 non-null   float64\n",
      "dtypes: float64(3), int64(2), object(8)\n",
      "memory usage: 1015.1+ KB\n"
     ]
    }
   ],
   "source": [
    "orders.info()"
   ]
  },
  {
   "cell_type": "code",
   "execution_count": 12,
   "id": "f416f264",
   "metadata": {},
   "outputs": [
    {
     "data": {
      "text/plain": [
       "{'whiskers': [<matplotlib.lines.Line2D at 0x231e3e78580>,\n",
       "  <matplotlib.lines.Line2D at 0x231e3e78850>],\n",
       " 'caps': [<matplotlib.lines.Line2D at 0x231e3e78b20>,\n",
       "  <matplotlib.lines.Line2D at 0x231e3e78df0>],\n",
       " 'boxes': [<matplotlib.lines.Line2D at 0x231e3e782b0>],\n",
       " 'medians': [<matplotlib.lines.Line2D at 0x231e3e790c0>],\n",
       " 'fliers': [<matplotlib.lines.Line2D at 0x231e3e79390>],\n",
       " 'means': []}"
      ]
     },
     "execution_count": 12,
     "metadata": {},
     "output_type": "execute_result"
    },
    {
     "data": {
      "image/png": "[encoded data removed]",
      "text/plain": [
       "<Figure size 432x288 with 1 Axes>"
      ]
     },
     "metadata": {
      "needs_background": "light"
     },
     "output_type": "display_data"
    }
   ],
   "source": [
    "plt.boxplot(orders.Sales)"
   ]
  },
  {
   "cell_type": "code",
   "execution_count": 13,
   "id": "e4ddf279",
   "metadata": {},
   "outputs": [
    {
     "data": {
      "text/plain": [
       "0       261.9600\n",
       "1       731.9400\n",
       "2        14.6200\n",
       "3       957.5775\n",
       "4        22.3680\n",
       "          ...   \n",
       "9989     25.2480\n",
       "9990     91.9600\n",
       "9991    258.5760\n",
       "9992     29.6000\n",
       "9993    243.1600\n",
       "Name: Sales, Length: 9994, dtype: float64"
      ]
     },
     "execution_count": 13,
     "metadata": {},
     "output_type": "execute_result"
    }
   ],
   "source": [
    "orders['Sales']"
   ]
  },
  {
   "cell_type": "code",
   "execution_count": 14,
   "id": "a7ce7d6f",
   "metadata": {},
   "outputs": [
    {
     "data": {
      "text/plain": [
       "<module 'matplotlib.style' from 'C:\\\\Users\\\\rahul\\\\AppData\\\\Local\\\\Programs\\\\Python\\\\Python310\\\\lib\\\\site-packages\\\\matplotlib\\\\style\\\\__init__.py'>"
      ]
     },
     "execution_count": 14,
     "metadata": {},
     "output_type": "execute_result"
    }
   ],
   "source": [
    "plt.style"
   ]
  },
  {
   "cell_type": "code",
   "execution_count": 15,
   "id": "2129f59a",
   "metadata": {},
   "outputs": [],
   "source": [
    "plt.style.use('fivethirtyeight')"
   ]
  },
  {
   "cell_type": "code",
   "execution_count": 16,
   "id": "7fb229d8",
   "metadata": {},
   "outputs": [
    {
     "data": {
      "text/plain": [
       "{'whiskers': [<matplotlib.lines.Line2D at 0x231e3edd090>,\n",
       "  <matplotlib.lines.Line2D at 0x231e3edd360>],\n",
       " 'caps': [<matplotlib.lines.Line2D at 0x231e3edd630>,\n",
       "  <matplotlib.lines.Line2D at 0x231e3edd930>],\n",
       " 'boxes': [<matplotlib.lines.Line2D at 0x231e3edcdc0>],\n",
       " 'medians': [<matplotlib.lines.Line2D at 0x231e3eddc00>],\n",
       " 'fliers': [<matplotlib.lines.Line2D at 0x231e3edded0>],\n",
       " 'means': []}"
      ]
     },
     "execution_count": 16,
     "metadata": {},
     "output_type": "execute_result"
    },
    {
     "data": {
      "image/png": "[encoded data removed]",
      "text/plain": [
       "<Figure size 432x288 with 1 Axes>"
      ]
     },
     "metadata": {},
     "output_type": "display_data"
    }
   ],
   "source": [
    "plt.boxplot(orders.Sales)"
   ]
  },
  {
   "cell_type": "code",
   "execution_count": 17,
   "id": "fcd659cf",
   "metadata": {},
   "outputs": [
    {
     "data": {
      "text/plain": [
       "{'whiskers': [<matplotlib.lines.Line2D at 0x231e40aeb00>,\n",
       "  <matplotlib.lines.Line2D at 0x231e40aedd0>],\n",
       " 'caps': [<matplotlib.lines.Line2D at 0x231e40af0a0>,\n",
       "  <matplotlib.lines.Line2D at 0x231e40af370>],\n",
       " 'boxes': [<matplotlib.lines.Line2D at 0x231e40ae950>],\n",
       " 'medians': [<matplotlib.lines.Line2D at 0x231e40af640>],\n",
       " 'fliers': [<matplotlib.lines.Line2D at 0x231e40af910>],\n",
       " 'means': []}"
      ]
     },
     "execution_count": 17,
     "metadata": {},
     "output_type": "execute_result"
    },
    {
     "data": {
      "image/png": "[encoded data removed]",
      "text/plain": [
       "<Figure size 432x288 with 1 Axes>"
      ]
     },
     "metadata": {},
     "output_type": "display_data"
    }
   ],
   "source": [
    "plt.boxplot(orders.Discount)"
   ]
  },
  {
   "cell_type": "code",
   "execution_count": 18,
   "id": "af79bd3c",
   "metadata": {},
   "outputs": [
    {
     "data": {
      "text/plain": [
       "0       0.00\n",
       "1       0.00\n",
       "2       0.00\n",
       "3       0.45\n",
       "4       0.20\n",
       "        ... \n",
       "9989    0.20\n",
       "9990    0.00\n",
       "9991    0.20\n",
       "9992    0.00\n",
       "9993    0.00\n",
       "Name: Discount, Length: 9994, dtype: float64"
      ]
     },
     "execution_count": 18,
     "metadata": {},
     "output_type": "execute_result"
    }
   ],
   "source": [
    "orders['Discount']"
   ]
  },
  {
   "cell_type": "code",
   "execution_count": 27,
   "id": "1c5f9a91",
   "metadata": {},
   "outputs": [],
   "source": [
    "a=orders['Sales']>10000"
   ]
  },
  {
   "cell_type": "code",
   "execution_count": 28,
   "id": "3676333f",
   "metadata": {},
   "outputs": [
    {
     "data": {
      "text/plain": [
       "5"
      ]
     },
     "execution_count": 28,
     "metadata": {},
     "output_type": "execute_result"
    }
   ],
   "source": [
    "c=0\n",
    "for i in a:\n",
    "    if i==True:\n",
    "        c=c+1;\n",
    "c        "
   ]
  },
  {
   "cell_type": "code",
   "execution_count": 29,
   "id": "a164fdef",
   "metadata": {},
   "outputs": [
    {
     "data": {
      "text/plain": [
       "{'whiskers': [<matplotlib.lines.Line2D at 0x231e401f340>,\n",
       "  <matplotlib.lines.Line2D at 0x231e401f610>],\n",
       " 'caps': [<matplotlib.lines.Line2D at 0x231e401f8e0>,\n",
       "  <matplotlib.lines.Line2D at 0x231e401fbb0>],\n",
       " 'boxes': [<matplotlib.lines.Line2D at 0x231e401f070>],\n",
       " 'medians': [<matplotlib.lines.Line2D at 0x231e401fe80>],\n",
       " 'fliers': [<matplotlib.lines.Line2D at 0x231e4a9c190>],\n",
       " 'means': []}"
      ]
     },
     "execution_count": 29,
     "metadata": {},
     "output_type": "execute_result"
    },
    {
     "data": {
      "image/png": "[encoded data removed]",
      "text/plain": [
       "<Figure size 432x288 with 1 Axes>"
      ]
     },
     "metadata": {},
     "output_type": "display_data"
    }
   ],
   "source": [
    "plt.boxplot(orders.Profit)"
   ]
  },
  {
   "cell_type": "code",
   "execution_count": 30,
   "id": "3e06e564",
   "metadata": {},
   "outputs": [
    {
     "data": {
      "text/plain": [
       "{'whiskers': [<matplotlib.lines.Line2D at 0x231e4ad5030>,\n",
       "  <matplotlib.lines.Line2D at 0x231e4ad5300>],\n",
       " 'caps': [<matplotlib.lines.Line2D at 0x231e4ad55d0>,\n",
       "  <matplotlib.lines.Line2D at 0x231e4ad58a0>],\n",
       " 'boxes': [<matplotlib.lines.Line2D at 0x231e4ad4d60>],\n",
       " 'medians': [<matplotlib.lines.Line2D at 0x231e4ad5b70>],\n",
       " 'fliers': [<matplotlib.lines.Line2D at 0x231e4ad5e40>],\n",
       " 'means': []}"
      ]
     },
     "execution_count": 30,
     "metadata": {},
     "output_type": "execute_result"
    },
    {
     "data": {
      "image/png": "[encoded data removed]",
      "text/plain": [
       "<Figure size 432x288 with 1 Axes>"
      ]
     },
     "metadata": {},
     "output_type": "display_data"
    }
   ],
   "source": [
    "plt.boxplot(orders['Quantity'])"
   ]
  },
  {
   "cell_type": "code",
   "execution_count": 31,
   "id": "bbcc1600",
   "metadata": {},
   "outputs": [
    {
     "data": {
      "text/plain": [
       "{'whiskers': [<matplotlib.lines.Line2D at 0x231e4b26f50>,\n",
       "  <matplotlib.lines.Line2D at 0x231e4b27220>],\n",
       " 'caps': [<matplotlib.lines.Line2D at 0x231e4b274f0>,\n",
       "  <matplotlib.lines.Line2D at 0x231e4b277c0>],\n",
       " 'boxes': [<matplotlib.lines.Line2D at 0x231e4b26da0>],\n",
       " 'medians': [<matplotlib.lines.Line2D at 0x231e4b27a90>],\n",
       " 'fliers': [<matplotlib.lines.Line2D at 0x231e4b27d60>],\n",
       " 'means': []}"
      ]
     },
     "execution_count": 31,
     "metadata": {},
     "output_type": "execute_result"
    },
    {
     "data": {
      "image/png": "[encoded data removed]",
      "text/plain": [
       "<Figure size 432x288 with 1 Axes>"
      ]
     },
     "metadata": {},
     "output_type": "display_data"
    }
   ],
   "source": [
    "plt.boxplot(orders['Postal Code'])"
   ]
  },
  {
   "cell_type": "code",
   "execution_count": 32,
   "id": "348199fd",
   "metadata": {},
   "outputs": [
    {
     "data": {
      "text/plain": [
       "{'whiskers': [<matplotlib.lines.Line2D at 0x231e4b99210>,\n",
       "  <matplotlib.lines.Line2D at 0x231e4b994e0>],\n",
       " 'caps': [<matplotlib.lines.Line2D at 0x231e4b997b0>,\n",
       "  <matplotlib.lines.Line2D at 0x231e4b99a80>],\n",
       " 'boxes': [<matplotlib.lines.Line2D at 0x231e4b98f40>],\n",
       " 'medians': [<matplotlib.lines.Line2D at 0x231e4b99d50>],\n",
       " 'fliers': [<matplotlib.lines.Line2D at 0x231e4b9a020>],\n",
       " 'means': []}"
      ]
     },
     "execution_count": 32,
     "metadata": {},
     "output_type": "execute_result"
    },
    {
     "data": {
      "image/png": "[encoded data removed]",
      "text/plain": [
       "<Figure size 432x288 with 1 Axes>"
      ]
     },
     "metadata": {},
     "output_type": "display_data"
    }
   ],
   "source": [
    "plt.boxplot(orders['Postal Code'], meanline=True)"
   ]
  },
  {
   "cell_type": "code",
   "execution_count": 33,
   "id": "3cac3e0c",
   "metadata": {},
   "outputs": [
    {
     "data": {
      "text/plain": [
       "{'whiskers': [<matplotlib.lines.Line2D at 0x231e4be6e30>,\n",
       "  <matplotlib.lines.Line2D at 0x231e4be7100>],\n",
       " 'caps': [<matplotlib.lines.Line2D at 0x231e4be73d0>,\n",
       "  <matplotlib.lines.Line2D at 0x231e4be76a0>],\n",
       " 'boxes': [<matplotlib.lines.Line2D at 0x231e4be6b60>],\n",
       " 'medians': [<matplotlib.lines.Line2D at 0x231e4be7970>],\n",
       " 'fliers': [<matplotlib.lines.Line2D at 0x231e4be7c40>],\n",
       " 'means': []}"
      ]
     },
     "execution_count": 33,
     "metadata": {},
     "output_type": "execute_result"
    },
    {
     "data": {
      "image/png": "[encoded data removed]",
      "text/plain": [
       "<Figure size 432x288 with 1 Axes>"
      ]
     },
     "metadata": {},
     "output_type": "display_data"
    }
   ],
   "source": [
    "plt.boxplot(orders['Quantity'], meanline=True) "
   ]
  },
  {
   "cell_type": "code",
   "execution_count": 34,
   "id": "617260d6",
   "metadata": {},
   "outputs": [
    {
     "data": {
      "text/plain": [
       "{'whiskers': [<matplotlib.lines.Line2D at 0x231e4c5d4e0>,\n",
       "  <matplotlib.lines.Line2D at 0x231e4c5d7b0>],\n",
       " 'caps': [<matplotlib.lines.Line2D at 0x231e4c5da80>,\n",
       "  <matplotlib.lines.Line2D at 0x231e4c5dd50>],\n",
       " 'boxes': [<matplotlib.lines.Line2D at 0x231e4c5d210>],\n",
       " 'medians': [<matplotlib.lines.Line2D at 0x231e4c5e020>],\n",
       " 'fliers': [<matplotlib.lines.Line2D at 0x231e4c5e5c0>],\n",
       " 'means': [<matplotlib.lines.Line2D at 0x231e4c5e2f0>]}"
      ]
     },
     "execution_count": 34,
     "metadata": {},
     "output_type": "execute_result"
    },
    {
     "data": {
      "image/png": "[encoded data removed]",
      "text/plain": [
       "<Figure size 432x288 with 1 Axes>"
      ]
     },
     "metadata": {},
     "output_type": "display_data"
    }
   ],
   "source": [
    "plt.boxplot(orders['Quantity'],showmeans=True)"
   ]
  },
  {
   "cell_type": "code",
   "execution_count": 35,
   "id": "cf62cc07",
   "metadata": {},
   "outputs": [
    {
     "data": {
      "text/plain": [
       "{'whiskers': [<matplotlib.lines.Line2D at 0x231e4cafa60>,\n",
       "  <matplotlib.lines.Line2D at 0x231e4cafd30>],\n",
       " 'caps': [<matplotlib.lines.Line2D at 0x231e4cd8040>,\n",
       "  <matplotlib.lines.Line2D at 0x231e4cd8310>],\n",
       " 'boxes': [<matplotlib.lines.Line2D at 0x231e4caf790>],\n",
       " 'medians': [<matplotlib.lines.Line2D at 0x231e4cd85e0>],\n",
       " 'fliers': [<matplotlib.lines.Line2D at 0x231e4cd8b80>],\n",
       " 'means': [<matplotlib.lines.Line2D at 0x231e4cd88b0>]}"
      ]
     },
     "execution_count": 35,
     "metadata": {},
     "output_type": "execute_result"
    },
    {
     "data": {
      "image/png": "[encoded data removed]",
      "text/plain": [
       "<Figure size 432x288 with 1 Axes>"
      ]
     },
     "metadata": {},
     "output_type": "display_data"
    }
   ],
   "source": [
    "plt.boxplot(orders['Quantity'],showmeans=True, vert=False)"
   ]
  },
  {
   "cell_type": "code",
   "execution_count": 36,
   "id": "94b40a35",
   "metadata": {},
   "outputs": [
    {
     "data": {
      "text/plain": [
       "{'whiskers': [<matplotlib.lines.Line2D at 0x231e4d1e320>,\n",
       "  <matplotlib.lines.Line2D at 0x231e4d1e5f0>],\n",
       " 'caps': [<matplotlib.lines.Line2D at 0x231e4d1e8c0>,\n",
       "  <matplotlib.lines.Line2D at 0x231e4d1eb90>],\n",
       " 'boxes': [<matplotlib.lines.Line2D at 0x231e4d1e050>],\n",
       " 'medians': [<matplotlib.lines.Line2D at 0x231e4d1ee60>],\n",
       " 'fliers': [<matplotlib.lines.Line2D at 0x231e4d1f130>],\n",
       " 'means': []}"
      ]
     },
     "execution_count": 36,
     "metadata": {},
     "output_type": "execute_result"
    },
    {
     "data": {
      "image/png": "[encoded data removed]",
      "text/plain": [
       "<Figure size 432x288 with 1 Axes>"
      ]
     },
     "metadata": {},
     "output_type": "display_data"
    }
   ],
   "source": [
    "plt.boxplot(orders['Quantity'],sym='c+')"
   ]
  },
  {
   "cell_type": "code",
   "execution_count": 42,
   "id": "8dbec25a",
   "metadata": {},
   "outputs": [
    {
     "data": {
      "text/plain": [
       "{'whiskers': [<matplotlib.lines.Line2D at 0x231ebe51cc0>,\n",
       "  <matplotlib.lines.Line2D at 0x231ebe51f90>],\n",
       " 'caps': [<matplotlib.lines.Line2D at 0x231ebe52260>,\n",
       "  <matplotlib.lines.Line2D at 0x231ebe52530>],\n",
       " 'boxes': [<matplotlib.lines.Line2D at 0x231ebe519f0>],\n",
       " 'medians': [<matplotlib.lines.Line2D at 0x231ebe52800>],\n",
       " 'fliers': [<matplotlib.lines.Line2D at 0x231ebe52ad0>],\n",
       " 'means': []}"
      ]
     },
     "execution_count": 42,
     "metadata": {},
     "output_type": "execute_result"
    },
    {
     "data": {
      "image/png": "[encoded data removed]",
      "text/plain": [
       "<Figure size 432x288 with 1 Axes>"
      ]
     },
     "metadata": {},
     "output_type": "display_data"
    }
   ],
   "source": [
    "plt.boxplot(orders['Quantity'],sym='c*')"
   ]
  },
  {
   "cell_type": "code",
   "execution_count": 43,
   "id": "129115e9",
   "metadata": {},
   "outputs": [
    {
     "data": {
      "text/plain": [
       "{'whiskers': [<matplotlib.lines.Line2D at 0x231ebe9f940>,\n",
       "  <matplotlib.lines.Line2D at 0x231ebe9fc10>],\n",
       " 'caps': [<matplotlib.lines.Line2D at 0x231ebe9fee0>,\n",
       "  <matplotlib.lines.Line2D at 0x231ebecc1f0>],\n",
       " 'boxes': [<matplotlib.lines.Line2D at 0x231ebe9f790>],\n",
       " 'medians': [<matplotlib.lines.Line2D at 0x231ebecc4c0>],\n",
       " 'fliers': [<matplotlib.lines.Line2D at 0x231ebecc790>],\n",
       " 'means': []}"
      ]
     },
     "execution_count": 43,
     "metadata": {},
     "output_type": "execute_result"
    },
    {
     "data": {
      "image/png": "[encoded data removed]",
      "text/plain": [
       "<Figure size 432x288 with 1 Axes>"
      ]
     },
     "metadata": {},
     "output_type": "display_data"
    }
   ],
   "source": [
    "plt.boxplot(orders['Quantity'],sym='b+')"
   ]
  },
  {
   "cell_type": "code",
   "execution_count": 44,
   "id": "b32e866d",
   "metadata": {},
   "outputs": [
    {
     "data": {
      "text/plain": [
       "{'whiskers': [<matplotlib.lines.Line2D at 0x231ebf11db0>,\n",
       "  <matplotlib.lines.Line2D at 0x231ebf12080>],\n",
       " 'caps': [<matplotlib.lines.Line2D at 0x231ebf12350>,\n",
       "  <matplotlib.lines.Line2D at 0x231ebf12620>],\n",
       " 'boxes': [<matplotlib.lines.Line2D at 0x231ebf11b10>],\n",
       " 'medians': [<matplotlib.lines.Line2D at 0x231ebf128f0>],\n",
       " 'fliers': [<matplotlib.lines.Line2D at 0x231ebf12bc0>],\n",
       " 'means': []}"
      ]
     },
     "execution_count": 44,
     "metadata": {},
     "output_type": "execute_result"
    },
    {
     "data": {
      "image/png": "[encoded data removed]",
      "text/plain": [
       "<Figure size 432x288 with 1 Axes>"
      ]
     },
     "metadata": {},
     "output_type": "display_data"
    }
   ],
   "source": [
    "plt.boxplot(orders['Quantity'],1,sym='c*')"
   ]
  },
  {
   "cell_type": "code",
   "execution_count": 45,
   "id": "7b0ae9c5",
   "metadata": {},
   "outputs": [
    {
     "data": {
      "text/plain": [
       "{'whiskers': [<matplotlib.lines.Line2D at 0x231ebf5ff70>,\n",
       "  <matplotlib.lines.Line2D at 0x231ebf8c280>],\n",
       " 'caps': [<matplotlib.lines.Line2D at 0x231ebf8c550>,\n",
       "  <matplotlib.lines.Line2D at 0x231ebf8c820>],\n",
       " 'boxes': [<matplotlib.lines.Line2D at 0x231ebf5fdc0>],\n",
       " 'medians': [<matplotlib.lines.Line2D at 0x231ebf8caf0>],\n",
       " 'fliers': [],\n",
       " 'means': []}"
      ]
     },
     "execution_count": 45,
     "metadata": {},
     "output_type": "execute_result"
    },
    {
     "data": {
      "image/png": "[encoded data removed]",
      "text/plain": [
       "<Figure size 432x288 with 1 Axes>"
      ]
     },
     "metadata": {},
     "output_type": "display_data"
    }
   ],
   "source": [
    "plt.boxplot(orders['Quantity'],sym='')"
   ]
  },
  {
   "cell_type": "code",
   "execution_count": null,
   "id": "5edb994b",
   "metadata": {},
   "outputs": [],
   "source": []
  }
 ],
 "metadata": {
  "kernelspec": {
   "display_name": "Python 3 (ipykernel)",
   "language": "python",
   "name": "python3"
  },
  "language_info": {
   "codemirror_mode": {
    "name": "ipython",
    "version": 3
   },
   "file_extension": ".py",
   "mimetype": "text/x-python",
   "name": "python",
   "nbconvert_exporter": "python",
   "pygments_lexer": "ipython3",
   "version": "3.10.4"
  }
 },
 "nbformat": 4,
 "nbformat_minor": 5
}
