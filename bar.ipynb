{
 "cells": [
  {
   "cell_type": "code",
   "execution_count": 11,
   "id": "1d2b09b0",
   "metadata": {},
   "outputs": [],
   "source": [
    "import csv\n",
    "import numpy as np\n",
    "import matplotlib.pyplot as plt\n",
    "from collections import Counter"
   ]
  },
  {
   "cell_type": "code",
   "execution_count": 12,
   "id": "1b8dedb5",
   "metadata": {},
   "outputs": [],
   "source": [
    "plt.style.use(\"fivethirtyeight\")"
   ]
  },
  {
   "cell_type": "code",
   "execution_count": 15,
   "id": "015db086",
   "metadata": {},
   "outputs": [
    {
     "name": "stdout",
     "output_type": "stream",
     "text": [
      "{'Responder_id': '1', 'LanguagesWorkedWith': 'HTML/CSS;Java;JavaScript;Python'}\n"
     ]
    }
   ],
   "source": [
    "with open('data.csv') as f:\n",
    "    csv_reader=csv.DictReader(f)\n",
    "    row=next(csv_reader)\n",
    "    print(row)"
   ]
  },
  {
   "cell_type": "code",
   "execution_count": 10,
   "id": "0c762161",
   "metadata": {},
   "outputs": [
    {
     "name": "stdout",
     "output_type": "stream",
     "text": [
      "['HTML/CSS', 'Java', 'JavaScript', 'Python']\n"
     ]
    }
   ],
   "source": [
    "with open('data.csv') as f:\n",
    "    csv_reader=csv.DictReader(f)\n",
    "    row=next(csv_reader)\n",
    "    print(row['LanguagesWorkedWith'].split(';'))"
   ]
  },
  {
   "cell_type": "code",
   "execution_count": 13,
   "id": "418b80ed",
   "metadata": {},
   "outputs": [],
   "source": [
    "with open('data.csv') as f:\n",
    "    csv_reader=csv.DictReader(f)\n",
    "    language_counter=Counter()\n",
    "    for row in csv_reader:\n",
    "        language_counter.update(row['LanguagesWorkedWith'].split(';'))"
   ]
  },
  {
   "cell_type": "code",
   "execution_count": 14,
   "id": "8488d7e8",
   "metadata": {},
   "outputs": [
    {
     "data": {
      "text/plain": [
       "Counter({'HTML/CSS': 5557,\n",
       "         'Java': 3545,\n",
       "         'JavaScript': 5881,\n",
       "         'Python': 3630,\n",
       "         'C++': 1996,\n",
       "         'C': 1701,\n",
       "         'C#': 2662,\n",
       "         'SQL': 4641,\n",
       "         'VBA': 479,\n",
       "         'R': 505,\n",
       "         'Bash/Shell/PowerShell': 3155,\n",
       "         'Ruby': 788,\n",
       "         'Rust': 273,\n",
       "         'TypeScript': 1842,\n",
       "         'WebAssembly': 111,\n",
       "         'Other(s):': 753,\n",
       "         'Go': 707,\n",
       "         'PHP': 2227,\n",
       "         'Assembly': 584,\n",
       "         'Kotlin': 559,\n",
       "         'Swift': 549,\n",
       "         'Objective-C': 415,\n",
       "         'Elixir': 128,\n",
       "         'Erlang': 80,\n",
       "         'Clojure': 130,\n",
       "         'F#': 112,\n",
       "         'Scala': 303,\n",
       "         'Dart': 185})"
      ]
     },
     "execution_count": 14,
     "metadata": {},
     "output_type": "execute_result"
    }
   ],
   "source": [
    "language_counter"
   ]
  },
  {
   "cell_type": "code",
   "execution_count": 16,
   "id": "a5fef8ef",
   "metadata": {},
   "outputs": [
    {
     "data": {
      "text/plain": [
       "[('JavaScript', 5881),\n",
       " ('HTML/CSS', 5557),\n",
       " ('SQL', 4641),\n",
       " ('Python', 3630),\n",
       " ('Java', 3545),\n",
       " ('Bash/Shell/PowerShell', 3155),\n",
       " ('C#', 2662),\n",
       " ('PHP', 2227),\n",
       " ('C++', 1996),\n",
       " ('TypeScript', 1842),\n",
       " ('C', 1701),\n",
       " ('Ruby', 788),\n",
       " ('Other(s):', 753),\n",
       " ('Go', 707),\n",
       " ('Assembly', 584)]"
      ]
     },
     "execution_count": 16,
     "metadata": {},
     "output_type": "execute_result"
    }
   ],
   "source": [
    "language_counter.most_common(15)"
   ]
  },
  {
   "cell_type": "code",
   "execution_count": 17,
   "id": "9302cfcb",
   "metadata": {},
   "outputs": [],
   "source": [
    "languages =[]\n",
    "popularity = []"
   ]
  },
  {
   "cell_type": "code",
   "execution_count": 19,
   "id": "26eff815",
   "metadata": {},
   "outputs": [],
   "source": [
    "for item in language_counter.most_common(15):\n",
    "    languages.append(item[0])\n",
    "    popularity.append(item[1])"
   ]
  },
  {
   "cell_type": "code",
   "execution_count": 20,
   "id": "81e07660",
   "metadata": {},
   "outputs": [
    {
     "data": {
      "text/plain": [
       "['JavaScript',\n",
       " 'HTML/CSS',\n",
       " 'SQL',\n",
       " 'Python',\n",
       " 'Java',\n",
       " 'Bash/Shell/PowerShell',\n",
       " 'C#',\n",
       " 'PHP',\n",
       " 'C++',\n",
       " 'TypeScript',\n",
       " 'C',\n",
       " 'Ruby',\n",
       " 'Other(s):',\n",
       " 'Go',\n",
       " 'Assembly']"
      ]
     },
     "execution_count": 20,
     "metadata": {},
     "output_type": "execute_result"
    }
   ],
   "source": [
    "languages"
   ]
  },
  {
   "cell_type": "code",
   "execution_count": 21,
   "id": "9fa70c39",
   "metadata": {},
   "outputs": [
    {
     "data": {
      "text/plain": [
       "[5881,\n",
       " 5557,\n",
       " 4641,\n",
       " 3630,\n",
       " 3545,\n",
       " 3155,\n",
       " 2662,\n",
       " 2227,\n",
       " 1996,\n",
       " 1842,\n",
       " 1701,\n",
       " 788,\n",
       " 753,\n",
       " 707,\n",
       " 584]"
      ]
     },
     "execution_count": 21,
     "metadata": {},
     "output_type": "execute_result"
    }
   ],
   "source": [
    "popularity"
   ]
  },
  {
   "cell_type": "code",
   "execution_count": 22,
   "id": "246bb839",
   "metadata": {},
   "outputs": [
    {
     "data": {
      "text/plain": [
       "Text(0, 0.5, 'Number of People Who Use')"
      ]
     },
     "execution_count": 22,
     "metadata": {},
     "output_type": "execute_result"
    },
    {
     "data": {
      "image/png": "[encoded data removed]",
      "text/plain": [
       "<Figure size 432x288 with 1 Axes>"
      ]
     },
     "metadata": {
      "needs_background": "light"
     },
     "output_type": "display_data"
    }
   ],
   "source": [
    "plt.bar(languages,popularity)\n",
    "\n",
    "plt.title('Most Popular Languages')\n",
    "plt.xlabel('Programming Languages')\n",
    "plt.ylabel('Number of People Who Use')"
   ]
  },
  {
   "cell_type": "code",
   "execution_count": 24,
   "id": "4737ecba",
   "metadata": {},
   "outputs": [
    {
     "data": {
      "text/plain": [
       "Text(0.5, 0, 'Number of People Who Use')"
      ]
     },
     "execution_count": 24,
     "metadata": {},
     "output_type": "execute_result"
    },
    {
     "data": {
      "image/png": "[encoded data removed]",
      "text/plain": [
       "<Figure size 432x288 with 1 Axes>"
      ]
     },
     "metadata": {
      "needs_background": "light"
     },
     "output_type": "display_data"
    }
   ],
   "source": [
    "plt.barh(languages,popularity)\n",
    "\n",
    "plt.title('Most Popular Languages')\n",
    "plt.ylabel('Programming Languages')\n",
    "plt.xlabel('Number of People Who Use')"
   ]
  },
  {
   "cell_type": "code",
   "execution_count": 25,
   "id": "eae5e884",
   "metadata": {},
   "outputs": [
    {
     "data": {
      "image/png": "[encoded data removed]",
      "text/plain": [
       "<Figure size 432x288 with 1 Axes>"
      ]
     },
     "metadata": {
      "needs_background": "light"
     },
     "output_type": "display_data"
    }
   ],
   "source": [
    "plt.barh(languages,popularity)\n",
    "\n",
    "plt.title('Most Popular Languages')\n",
    "#plt.ylabel('Programming Languages')\n",
    "plt.xlabel('Number of People Who Use')\n",
    "\n",
    "plt.tight_layout()"
   ]
  },
  {
   "cell_type": "code",
   "execution_count": 26,
   "id": "3d2ac0d4",
   "metadata": {},
   "outputs": [],
   "source": [
    "languages.reverse()\n",
    "popularity.reverse()"
   ]
  },
  {
   "cell_type": "code",
   "execution_count": 27,
   "id": "c98d8be5",
   "metadata": {},
   "outputs": [
    {
     "data": {
      "image/png": "[encoded data removed]",
      "text/plain": [
       "<Figure size 432x288 with 1 Axes>"
      ]
     },
     "metadata": {
      "needs_background": "light"
     },
     "output_type": "display_data"
    }
   ],
   "source": [
    "plt.barh(languages,popularity)\n",
    "\n",
    "plt.title('Most Popular Languages')\n",
    "#plt.ylabel('Programming Languages')\n",
    "plt.xlabel('Number of People Who Use')\n",
    "\n",
    "plt.tight_layout()"
   ]
  },
  {
   "cell_type": "code",
   "execution_count": 28,
   "id": "746a32fc",
   "metadata": {},
   "outputs": [],
   "source": [
    "import pandas as pd"
   ]
  },
  {
   "cell_type": "code",
   "execution_count": 29,
   "id": "68d76ed4",
   "metadata": {},
   "outputs": [],
   "source": [
    "df = pd.read_csv('data.csv')"
   ]
  },
  {
   "cell_type": "code",
   "execution_count": 30,
   "id": "47622fbf",
   "metadata": {},
   "outputs": [
    {
     "data": {
      "text/html": [
       "<div>\n",
       "<style scoped>\n",
       "    .dataframe tbody tr th:only-of-type {\n",
       "        vertical-align: middle;\n",
       "    }\n",
       "\n",
       "    .dataframe tbody tr th {\n",
       "        vertical-align: top;\n",
       "    }\n",
       "\n",
       "    .dataframe thead th {\n",
       "        text-align: right;\n",
       "    }\n",
       "</style>\n",
       "<table border=\"1\" class=\"dataframe\">\n",
       "  <thead>\n",
       "    <tr style=\"text-align: right;\">\n",
       "      <th></th>\n",
       "      <th>Responder_id</th>\n",
       "      <th>LanguagesWorkedWith</th>\n",
       "    </tr>\n",
       "  </thead>\n",
       "  <tbody>\n",
       "    <tr>\n",
       "      <th>0</th>\n",
       "      <td>1</td>\n",
       "      <td>HTML/CSS;Java;JavaScript;Python</td>\n",
       "    </tr>\n",
       "    <tr>\n",
       "      <th>1</th>\n",
       "      <td>2</td>\n",
       "      <td>C++;HTML/CSS;Python</td>\n",
       "    </tr>\n",
       "    <tr>\n",
       "      <th>2</th>\n",
       "      <td>3</td>\n",
       "      <td>HTML/CSS</td>\n",
       "    </tr>\n",
       "    <tr>\n",
       "      <th>3</th>\n",
       "      <td>4</td>\n",
       "      <td>C;C++;C#;Python;SQL</td>\n",
       "    </tr>\n",
       "  </tbody>\n",
       "</table>\n",
       "</div>"
      ],
      "text/plain": [
       "   Responder_id              LanguagesWorkedWith\n",
       "0             1  HTML/CSS;Java;JavaScript;Python\n",
       "1             2              C++;HTML/CSS;Python\n",
       "2             3                         HTML/CSS\n",
       "3             4              C;C++;C#;Python;SQL"
      ]
     },
     "execution_count": 30,
     "metadata": {},
     "output_type": "execute_result"
    }
   ],
   "source": [
    "df.head(4)"
   ]
  },
  {
   "cell_type": "code",
   "execution_count": 31,
   "id": "9f179529",
   "metadata": {},
   "outputs": [],
   "source": [
    "ids = df['Responder_id']"
   ]
  },
  {
   "cell_type": "code",
   "execution_count": 32,
   "id": "b52c7ce7",
   "metadata": {},
   "outputs": [
    {
     "data": {
      "text/plain": [
       "0          1\n",
       "1          2\n",
       "2          3\n",
       "3          4\n",
       "4          5\n",
       "        ... \n",
       "8585    8723\n",
       "8586    8724\n",
       "8587    8725\n",
       "8588    8726\n",
       "8589    8727\n",
       "Name: Responder_id, Length: 8590, dtype: int64"
      ]
     },
     "execution_count": 32,
     "metadata": {},
     "output_type": "execute_result"
    }
   ],
   "source": [
    "ids"
   ]
  },
  {
   "cell_type": "code",
   "execution_count": 33,
   "id": "b157703b",
   "metadata": {},
   "outputs": [],
   "source": [
    "lang_responses=df['LanguagesWorkedWith']"
   ]
  },
  {
   "cell_type": "code",
   "execution_count": 35,
   "id": "717afebd",
   "metadata": {},
   "outputs": [
    {
     "data": {
      "text/plain": [
       "0                HTML/CSS;Java;JavaScript;Python\n",
       "1                            C++;HTML/CSS;Python\n",
       "2                                       HTML/CSS\n",
       "3                            C;C++;C#;Python;SQL\n",
       "4    C++;HTML/CSS;Java;JavaScript;Python;SQL;VBA\n",
       "5                                     Java;R;SQL\n",
       "Name: LanguagesWorkedWith, dtype: object"
      ]
     },
     "execution_count": 35,
     "metadata": {},
     "output_type": "execute_result"
    }
   ],
   "source": [
    "lang_responses.head(6)"
   ]
  },
  {
   "cell_type": "code",
   "execution_count": 37,
   "id": "5062ea38",
   "metadata": {},
   "outputs": [],
   "source": [
    "language_counter=Counter()"
   ]
  },
  {
   "cell_type": "code",
   "execution_count": 39,
   "id": "1c987e24",
   "metadata": {},
   "outputs": [],
   "source": [
    "for response in lang_responses:\n",
    "    language_counter.update(response.split(';'))"
   ]
  },
  {
   "cell_type": "code",
   "execution_count": 41,
   "id": "46324332",
   "metadata": {},
   "outputs": [
    {
     "data": {
      "text/plain": [
       "Text(0.5, 0, 'Number of People Who Use')"
      ]
     },
     "execution_count": 41,
     "metadata": {},
     "output_type": "execute_result"
    },
    {
     "data": {
      "image/png": "[encoded data removed]",
      "text/plain": [
       "<Figure size 432x288 with 1 Axes>"
      ]
     },
     "metadata": {
      "needs_background": "light"
     },
     "output_type": "display_data"
    }
   ],
   "source": [
    "languages =[]\n",
    "popularity = []\n",
    "for item in language_counter.most_common(15):\n",
    "    languages.append(item[0])\n",
    "    popularity.append(item[1])\n",
    "\n",
    "    \n",
    "languages.reverse()\n",
    "popularity.reverse()    \n",
    "plt.barh(languages,popularity)\n",
    "plt.title('Most Popular Languages')\n",
    "plt.ylabel('Programming Languages')\n",
    "plt.xlabel('Number of People Who Use')    \n",
    "    \n",
    "    "
   ]
  },
  {
   "cell_type": "code",
   "execution_count": null,
   "id": "233c77a6",
   "metadata": {},
   "outputs": [],
   "source": []
  }
 ],
 "metadata": {
  "kernelspec": {
   "display_name": "Python 3 (ipykernel)",
   "language": "python",
   "name": "python3"
  },
  "language_info": {
   "codemirror_mode": {
    "name": "ipython",
    "version": 3
   },
   "file_extension": ".py",
   "mimetype": "text/x-python",
   "name": "python",
   "nbconvert_exporter": "python",
   "pygments_lexer": "ipython3",
   "version": "3.10.4"
  }
 },
 "nbformat": 4,
 "nbformat_minor": 5
}
